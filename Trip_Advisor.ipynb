{
 "cells": [
  {
   "cell_type": "code",
   "execution_count": 78,
   "metadata": {},
   "outputs": [],
   "source": [
    "import requests\n",
    "from bs4 import BeautifulSoup\n",
    "import time\n",
    "\n",
    "import csv                  \n",
    "import webbrowser\n",
    "import io\n",
    "\n",
    "import pandas as pd\n",
    "import numpy as np"
   ]
  },
  {
   "cell_type": "code",
   "execution_count": 82,
   "metadata": {},
   "outputs": [],
   "source": [
    "def get_soup(url, show=False):\n",
    "    r = requests.get(url)\n",
    "    if r.status_code != 200: # not OK\n",
    "        print('[get_soup] status code:', r.status_code)\n",
    "    else:\n",
    "        return BeautifulSoup(r.text, 'lxml')\n",
    "    \n",
    "def post_soup(session, url, params, show=False):\n",
    "    '''Read HTML from server and convert to Soup'''\n",
    "\n",
    "    r = session.post(url, data=params)\n",
    "    \n",
    "    if show:\n",
    "        display(r.content, 'temp.html')\n",
    "\n",
    "    if r.status_code != 200: # not OK\n",
    "        print('[post_soup] status code:', r.status_code)\n",
    "    else:\n",
    "        return BeautifulSoup(r.text, 'lxml')"
   ]
  },
  {
   "cell_type": "code",
   "execution_count": 83,
   "metadata": {},
   "outputs": [],
   "source": [
    "def crawl(airline, url, stop=420):\n",
    "    n = 1\n",
    "    _url = url\n",
    "    reviews = pd.DataFrame(columns=[\"date\", \"rating\", \"review\"])\n",
    "    while n <= stop or not _url:\n",
    "        soup = get_soup(_url)\n",
    "        reviews = pd.concat([reviews, get_reviews(soup)])\n",
    "        _url = get_next_page_link(soup, n)\n",
    "        n += 1\n",
    "        time.sleep(1.5)\n",
    "    reviews[\"airline\"] = airline\n",
    "    return reviews\n",
    "\n",
    "\n",
    "def get_reviews(soup):\n",
    "    review_containers = soup.find_all(\"div\", class_=\"review-container\")\n",
    "    reviews_on_page = pd.DataFrame(columns=[\"date\", \"rating\", \"review\"])\n",
    "    for rc in review_containers:\n",
    "        _rating = rc.find(\"span\", class_=\"ui_bubble_rating\").get(\"class\")[1]\n",
    "        _date = rc.find(\"span\", class_=\"ratingDate\").get(\"title\")\n",
    "        _review = rc.find(\"div\",class_=\"prw_reviews_text_summary_hsx\").text\n",
    "        \n",
    "        reviews_on_page = reviews_on_page.append({\n",
    "            'date': _date,\n",
    "            'rating': _rating,\n",
    "            'review': _review,\n",
    "        }, ignore_index=True)        \n",
    "    \n",
    "    return reviews_on_page\n",
    "    \n",
    "def get_next_page_link(soup, curr_page_num):\n",
    "    def format_link(link):\n",
    "        return f\"https://www.tripadvisor.com{link}\"\n",
    "    \n",
    "    review_pages = soup.find(\"div\", class_=\"pageNumbers\").find_all(\"a\")\n",
    "    for p in review_pages:\n",
    "        page_number = p.text\n",
    "        if not page_number.isnumeric():\n",
    "            continue\n",
    "        if int(page_number) == curr_page_num + 1:\n",
    "            return format_link(p.get(\"href\"))\n",
    "    return None"
   ]
  },
  {
   "cell_type": "code",
   "execution_count": 89,
   "metadata": {},
   "outputs": [],
   "source": [
    "airline_urls = {\n",
    "    'american': 'https://www.tripadvisor.com/ShowUserReviews-g1-d8729020-r775183324-American_Airlines-World.html',\n",
    "    \"alaska\": \"https://www.tripadvisor.com/ShowUserReviews-g1-d8729017-r775132558-Alaska_Airlines-World.html\",\n",
    "    \"united\": \"https://www.tripadvisor.com/ShowUserReviews-g1-d8729177-r775048840-United_Airlines-World.html\",\n",
    "    \"delta\": \"https://www.tripadvisor.com/ShowUserReviews-g1-d8729060-r774920572-Delta_Air_Lines-World.html\",\n",
    "    \"virgin\":\"https://www.tripadvisor.com/ShowUserReviews-g1-d8729182-r773579224-Virgin_Atlantic_Airways-World.html\",\n",
    "    \"hawaiian\":\"https://www.tripadvisor.com/ShowUserReviews-g1-d8729086-r773220623-Hawaiian_Airlines-World.html\",\n",
    "}"
   ]
  },
  {
   "cell_type": "code",
   "execution_count": 84,
   "metadata": {},
   "outputs": [],
   "source": [
    "american = crawl(\"american\",airline_urls['american'])\n",
    "american.to_csv('output/american_reviews.csv',index=False)"
   ]
  },
  {
   "cell_type": "code",
   "execution_count": 88,
   "metadata": {},
   "outputs": [],
   "source": [
    "alaska = crawl(\"alaska\",airline_urls['alaska'])\n",
    "alaska.to_csv('output/alaska_reviews.csv',index=False)"
   ]
  },
  {
   "cell_type": "code",
   "execution_count": 90,
   "metadata": {},
   "outputs": [],
   "source": [
    "united = crawl(\"united\",airline_urls['united'])\n",
    "united.to_csv('output/united_reviews.csv',index=False)"
   ]
  },
  {
   "cell_type": "code",
   "execution_count": 91,
   "metadata": {},
   "outputs": [],
   "source": [
    "delta = crawl(\"delta\",airline_urls['delta'])\n",
    "delta.to_csv('output/delta_reviews.csv',index=False)"
   ]
  },
  {
   "cell_type": "code",
   "execution_count": 92,
   "metadata": {},
   "outputs": [],
   "source": [
    "virgin = crawl(\"virgin\",airline_urls['virgin'])\n",
    "virgin.to_csv('output/virgin_reviews.csv',index=False)"
   ]
  },
  {
   "cell_type": "code",
   "execution_count": null,
   "metadata": {},
   "outputs": [],
   "source": [
    "hawaiian = crawl(\"hawaiian\",airline_urls['hawaiian'])\n",
    "hawaiian.to_csv('output/hawaiian_reviews.csv',index=False)"
   ]
  }
 ],
 "metadata": {
  "jupytext": {
   "formats": "ipynb,md"
  },
  "kernelspec": {
   "display_name": "Python 3",
   "language": "python",
   "name": "python3"
  },
  "language_info": {
   "codemirror_mode": {
    "name": "ipython",
    "version": 3
   },
   "file_extension": ".py",
   "mimetype": "text/x-python",
   "name": "python",
   "nbconvert_exporter": "python",
   "pygments_lexer": "ipython3",
   "version": "3.8.3"
  }
 },
 "nbformat": 4,
 "nbformat_minor": 4
}
